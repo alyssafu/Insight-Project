{
 "cells": [
  {
   "cell_type": "code",
   "execution_count": null,
   "metadata": {
    "collapsed": true
   },
   "outputs": [],
   "source": [
    "import time\n",
    "import datetime\n",
    "import praw\n",
    "import pandas as pd\n",
    "import unicodedata\n",
    "from sqlalchemy import create_engine\n",
    "from sqlalchemy.types import String"
   ]
  },
  {
   "cell_type": "code",
   "execution_count": null,
   "metadata": {
    "collapsed": true
   },
   "outputs": [],
   "source": [
    "STARTSEARCH = '2015.04.01 00:00:00'\n",
    "ENDSEARCH = '2015.04.30 23:59:59'\n",
    "POSTPERIOD = 'Apr2015'\n",
    "TOTABLE = 'posts1000_2'\n",
    "\n",
    "USERAGENT = \"/u/insight_fu comments\"\n",
    "SUBREDDIT = \"girlgamers\"\n",
    "MAXPOSTS = 1000"
   ]
  },
  {
   "cell_type": "code",
   "execution_count": null,
   "metadata": {
    "collapsed": false
   },
   "outputs": [],
   "source": [
    "r = praw.Reddit(USERAGENT)"
   ]
  },
  {
   "cell_type": "code",
   "execution_count": null,
   "metadata": {
    "collapsed": false
   },
   "outputs": [],
   "source": [
    "pattern = '%Y.%m.%d %H:%M:%S'\n",
    "startEpochSearch = time.mktime(time.strptime(STARTSEARCH, pattern))\n",
    "endEpochSearch = time.mktime(time.strptime(ENDSEARCH, pattern))\n",
    "searchTerm = \"timestamp:\" + str(startEpochSearch)[:-2] + \"..\" + str(endEpochSearch)[:-2]"
   ]
  },
  {
   "cell_type": "code",
   "execution_count": null,
   "metadata": {
    "collapsed": true
   },
   "outputs": [],
   "source": [
    "subreddit = r.get_subreddit(SUBREDDIT)\n",
    "searchSubreddit = subreddit.search(searchTerm, sort = \"top\", syntax = \"cloudsearch\", limit = MAXPOSTS)\n",
    "posts = list(searchSubreddit)"
   ]
  },
  {
   "cell_type": "code",
   "execution_count": null,
   "metadata": {
    "collapsed": true
   },
   "outputs": [],
   "source": [
    "s = []\n",
    "for post in posts:\n",
    "    s.append({'subreddit': post.subreddit,\n",
    "              'postPeriod': POSTPERIOD,\n",
    "              'postID': post.id,\n",
    "              'postCreated': post.created,\n",
    "              'postTitle': post.title,\n",
    "              'postLink': post.permalink,\n",
    "              'postAuthor': post.author,\n",
    "              'postNumComments': post.num_comments,\n",
    "              'postScore': post.score,\n",
    "              'postBody': post.selftext if post.is_self is True else post.url})"
   ]
  },
  {
   "cell_type": "code",
   "execution_count": null,
   "metadata": {
    "collapsed": true
   },
   "outputs": [],
   "source": [
    "sDF = pd.DataFrame(s)"
   ]
  },
  {
   "cell_type": "code",
   "execution_count": null,
   "metadata": {
    "collapsed": true
   },
   "outputs": [],
   "source": [
    "convertThese = ['postAuthor', 'subreddit', 'postCreated']\n",
    "for convert in convertThese:\n",
    "    sDF[convert] = sDF[convert].map(str)"
   ]
  },
  {
   "cell_type": "code",
   "execution_count": null,
   "metadata": {
    "collapsed": true
   },
   "outputs": [],
   "source": [
    "convertThese = ['postBody', 'postID', 'postLink', 'postTitle']\n",
    "for convert in convertThese:\n",
    "    sDF[convert] = sDF[convert].map(lambda x:unicodedata.normalize('NFKD', x).encode('ascii', 'ignore'))"
   ]
  },
  {
   "cell_type": "code",
   "execution_count": null,
   "metadata": {
    "collapsed": false
   },
   "outputs": [],
   "source": [
    "engine = create_engine(\"mysql+pymysql://root@localhost/\" + str(SUBREDDIT))\n",
    "sDF.to_sql(TOTABLE, engine, if_exists=\"append\")"
   ]
  }
 ],
 "metadata": {
  "kernelspec": {
   "display_name": "Python 2",
   "language": "python",
   "name": "python2"
  },
  "language_info": {
   "codemirror_mode": {
    "name": "ipython",
    "version": 2
   },
   "file_extension": ".py",
   "mimetype": "text/x-python",
   "name": "python",
   "nbconvert_exporter": "python",
   "pygments_lexer": "ipython2",
   "version": "2.7.10"
  }
 },
 "nbformat": 4,
 "nbformat_minor": 0
}
