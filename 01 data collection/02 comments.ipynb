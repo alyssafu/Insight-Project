{
 "cells": [
  {
   "cell_type": "code",
   "execution_count": null,
   "metadata": {
    "collapsed": false
   },
   "outputs": [],
   "source": [
    "import sys\n",
    "import time\n",
    "import unicodedata\n",
    "import pandas as pd\n",
    "from sqlalchemy import create_engine\n",
    "import praw"
   ]
  },
  {
   "cell_type": "code",
   "execution_count": null,
   "metadata": {
    "collapsed": false
   },
   "outputs": [],
   "source": [
    "USERAGENT = \"/u/insight_fu comments\"\n",
    "SUBREDDIT = \"girlgamers\" # modify this for other subreddits\n",
    "FROMTABLE = \"posts1000_2\"\n",
    "TOTABLE = \"comments2\"\n",
    "POSTPERIOD = \"Apr2015\" # modify this for other post periods"
   ]
  },
  {
   "cell_type": "code",
   "execution_count": null,
   "metadata": {
    "collapsed": false
   },
   "outputs": [],
   "source": [
    "engine = create_engine(\"mysql+pymysql://root@localhost/\" + str(SUBREDDIT))\n",
    "con = engine.connect()\n",
    "dataid = 1022"
   ]
  },
  {
   "cell_type": "code",
   "execution_count": null,
   "metadata": {
    "collapsed": false
   },
   "outputs": [],
   "source": [
    "postIDs = con.execute(\"SELECT postID, postNumComments FROM \" + FROMTABLE + \" WHERE postID NOT IN (SELECT postID FROM \" + TOTABLE + \") AND postPeriod = \" + POSTPERIOD + \")\""
   ]
  },
  {
   "cell_type": "code",
   "execution_count": null,
   "metadata": {
    "collapsed": false
   },
   "outputs": [],
   "source": [
    "pDF = pd.DataFrame(postIDs.fetchall())\n",
    "pDF.columns = postIDs.keys()"
   ]
  },
  {
   "cell_type": "code",
   "execution_count": null,
   "metadata": {
    "collapsed": false
   },
   "outputs": [],
   "source": [
    "# Check number of posts, unique posts, and total number of comments in database\n",
    "print \"Number of posts:\" + str(len(pDF['postID']))\n",
    "print \"Number of unique posts: \" + str(len(pDF['postID'].unique()))\n",
    "print \"Total number of comments: \" + str(sum(pDF['postNumComments']))"
   ]
  },
  {
   "cell_type": "code",
   "execution_count": null,
   "metadata": {
    "collapsed": true
   },
   "outputs": [],
   "source": [
    "pDF = pDF[pDF['postNumComments'] <= 350]"
   ]
  },
  {
   "cell_type": "code",
   "execution_count": null,
   "metadata": {
    "collapsed": false
   },
   "outputs": [],
   "source": [
    "# Double-check number of posts and total number of comments after selection\n",
    "print \"Number of posts: \" + str(len(pDF['postID'].unique()))\n",
    "print \"Total number of comments: \" + str(sum(pDF['postNumComments']))"
   ]
  },
  {
   "cell_type": "code",
   "execution_count": null,
   "metadata": {
    "collapsed": false
   },
   "outputs": [],
   "source": [
    "r = praw.Reddit(USERAGENT)"
   ]
  },
  {
   "cell_type": "code",
   "execution_count": null,
   "metadata": {
    "collapsed": false
   },
   "outputs": [],
   "source": [
    "for postID in pDF['postID']:\n",
    "    startTime = time.time()\n",
    "\n",
    "    submission_id = postID\n",
    "\n",
    "    try:\n",
    "        submission = r.get_submission(submission_id = submission_id)\n",
    "\n",
    "        print \"Post: \" + str(submission_id) + \" has been retrieved. | \" + time.strftime('%Y-%m-%d %H:%M:%S')\n",
    "\n",
    "        if submission.num_comments == 0 or submission.comments == []:\n",
    "            print \"Post: \" + str(submission_id) + \" has no comments, so skip to next. | \" + time.strftime('%Y-%m-%d %H:%M:%S')           \n",
    "\n",
    "        else:\n",
    "            submission.replace_more_comments(limit = None, threshold = 0)\n",
    "\n",
    "            print \"Post: \" + str(submission_id) + \"'s MoreComments have been replaced. | \" + time.strftime('%Y-%m-%d %H:%M:%S')           \n",
    "\n",
    "            all_comments = submission.comments\n",
    "            flat_allComments = praw.helpers.flatten_tree(all_comments)\n",
    "\n",
    "            c = []\n",
    "            for comment in flat_allComments:\n",
    "                c.append({'subreddit': comment.subreddit,\n",
    "                          'commentID': comment.id,\n",
    "                          'postID': submission.id,\n",
    "                          'commentParentID': comment.parent_id,\n",
    "                          'commentCreated': comment.created,\n",
    "                          'commentLink': comment.permalink,\n",
    "                          'commentAuthor': comment.author,\n",
    "                          'commentScore': comment.score,\n",
    "                          'commentBody': comment.body})\n",
    "\n",
    "            cDF = pd.DataFrame(c)\n",
    "\n",
    "            convertThese = ['commentAuthor', 'subreddit', 'commentCreated']\n",
    "            for convert in convertThese:\n",
    "                cDF[convert] = cDF[convert].map(str)\n",
    "\n",
    "            convertThese = ['commentBody', 'commentID', 'postID', 'commentLink', 'commentParentID']\n",
    "            for convert in convertThese:\n",
    "                cDF[convert] = cDF[convert].map(lambda x:unicodedata.normalize('NFKD', x).encode('ascii', 'ignore'))\n",
    "\n",
    "            print \"Comments for post: \" + str(submission_id) + \" have been converted and will be stored in the DB. | \" + time.strftime('%Y-%m-%d %H:%M:%S')           \n",
    "\n",
    "            engine = create_engine(\"mysql+pymysql://root@localhost/\" + str(SUBREDDIT))\n",
    "            cDF.to_sql(TOTABLE, engine, if_exists=\"append\")\n",
    "\n",
    "            print \"Comments for post: \" + str(submission_id) + \" have been stored in the DB.\"\n",
    "\n",
    "    except:\n",
    "        e = sys.exc_info()[0]\n",
    "        print str(e) + \". Comments for post: \" + str(submission_id) + \" were not stored in the DB.\"\n",
    "        pass\n",
    "\n",
    "    totalTime = time.time() - startTime\n",
    "    \n",
    "    totalMin = totalTime/60\n",
    "    \n",
    "    print time.strftime('%Y-%m-%d %H:%M:%S') + \"; totalMin: \" + str(totalMin) + \" minutes\"\n",
    "    print \"--------------------------------\"\n",
    "    \n",
    "    time.sleep(1)"
   ]
  }
 ],
 "metadata": {
  "kernelspec": {
   "display_name": "Python 2",
   "language": "python",
   "name": "python2"
  },
  "language_info": {
   "codemirror_mode": {
    "name": "ipython",
    "version": 2
   },
   "file_extension": ".py",
   "mimetype": "text/x-python",
   "name": "python",
   "nbconvert_exporter": "python",
   "pygments_lexer": "ipython2",
   "version": "2.7.10"
  }
 },
 "nbformat": 4,
 "nbformat_minor": 0
}
